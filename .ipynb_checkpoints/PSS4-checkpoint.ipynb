{
 "cells": [
  {
   "cell_type": "markdown",
   "metadata": {},
   "source": [
    "# Esperienza 4"
   ]
  },
  {
   "cell_type": "code",
   "execution_count": 1,
   "metadata": {
    "collapsed": true
   },
   "outputs": [],
   "source": [
    "%run 'Base_Load.ipynb'"
   ]
  },
  {
   "cell_type": "code",
   "execution_count": 2,
   "metadata": {
    "collapsed": true
   },
   "outputs": [],
   "source": [
    "def fluke_sd(x):\n",
    "    if(isinstance(x, int)): \n",
    "        s = str(x)\n",
    "        ret = 1\n",
    "    else:\n",
    "        s = str(x)\n",
    "        for k in range(len(s)):\n",
    "            if (s[k] == '.'):\n",
    "                a = k\n",
    "        ret = 2*10**(-len(s[a+1:]))\n",
    "    sd= 0.5/100*x + ret\n",
    "    return (sd)\n",
    "\n",
    "\n",
    "def multi_fluke_sd(x): # BISOGNA DARE UNA LISTA, NON UN ARRAY\n",
    "    sd = []\n",
    "    for i in range(len(x)):\n",
    "        ret = fluke_sd(x[i])\n",
    "        sd.append(ret)\n",
    "    sd = array(sd)\n",
    "    return (sd)"
   ]
  },
  {
   "cell_type": "markdown",
   "metadata": {},
   "source": [
    "## Amplificatore differenziale\n",
    "\n",
    "Prendiamo le due resisitenze $R_1$ d'ingresso uguali tra loro, e le altre due anch'esse uguali tra loto $R_2$.\n",
    "Nel caso reale le coppie di resistenze non sono esattamente uguali ergo definiamo $r_1$ ed $r_2$ le altre due resistenze, che saranno comunque molto simili alle corrispondenti maiuscole."
   ]
  },
  {
   "cell_type": "code",
   "execution_count": 3,
   "metadata": {},
   "outputs": [
    {
     "data": {
      "text/plain": [
       "4.698665518725786"
      ]
     },
     "execution_count": 3,
     "metadata": {},
     "output_type": "execute_result"
    }
   ],
   "source": [
    "21830/4646"
   ]
  },
  {
   "cell_type": "code",
   "execution_count": 4,
   "metadata": {},
   "outputs": [
    {
     "name": "stdout",
     "output_type": "stream",
     "text": [
      "R1: 4646    sdR1: 24.23\n",
      "R2: 21830    sdR2: 110.15\n",
      "r1: 4644    sdr1: 24.22\n",
      "r2: 21723    sdr2: 109.61500000000001\n"
     ]
    }
   ],
   "source": [
    "R1 = 4646\n",
    "r1 = 4644\n",
    "\n",
    "R2 = 21830\n",
    "r2 = 21723\n",
    "\n",
    "sdR1 = fluke_sd(R1)\n",
    "sdR2 = fluke_sd(R2)\n",
    "sdr1 = fluke_sd(r1)\n",
    "sdr2 = fluke_sd(r2)\n",
    "\n",
    "print(\"R1:\",R1,\"   sdR1:\",sdR1)\n",
    "print(\"R2:\",R2,\"   sdR2:\",sdR2)\n",
    "print(\"r1:\",r1,\"   sdr1:\",sdr1)\n",
    "print(\"r2:\",r2,\"   sdr2:\",sdr2)"
   ]
  },
  {
   "cell_type": "markdown",
   "metadata": {},
   "source": [
    "Per misurare $A_c$ si invia lo stesso segnale sinusoidale di frequenza $f$ e ampiezza $V_i$ ai due ingressi. Ricordiamo che:\n",
    "\n",
    "$$ v_o = A_1\\,v_1 + A_2\\,v_2 = A_d\\,v_d + A_c\\,v_c$$\n",
    "\n",
    "$$ A_d = \\frac{A_1-A_2}{2}$$\n",
    "\n",
    "$$ A_c = A_1+A_2 $$\n",
    "\n",
    "$$\\rho = \\left|\\frac{A_d}{A_c}\\right|$$\n",
    "\n",
    "Per ottenere solo la parte differenziale voglio $A_1 = -A_2$ quindi nel caso ideale: \n",
    "\n",
    "$$\\rho = \\infty$$\n",
    "\n",
    "$$ A_c = 0 $$\n",
    "\n",
    "$$ A_d = \\frac{R_2}{R_1} $$\n",
    "\n",
    "$$ A_1 = -\\frac{R_2}{R_1} $$\n",
    "\n",
    "$$ A_2 = \\frac{R_2'}{R_1}\\frac{R_1+R_2}{R_1'+R_2'} $$"
   ]
  },
  {
   "cell_type": "markdown",
   "metadata": {},
   "source": [
    "## Preliminare\n",
    "\n",
    "Per misurare $A_c$ mandiamo lo stesso segnale ai due ingressi "
   ]
  },
  {
   "cell_type": "code",
   "execution_count": 5,
   "metadata": {},
   "outputs": [
    {
     "name": "stdout",
     "output_type": "stream",
     "text": [
      "Ac: 0.00300512820513    sdAc: 7.84464540553e-05\n"
     ]
    }
   ],
   "source": [
    "f = array([149.5, 222, 281, 359, 461])\n",
    "Vi = array([3.90, 3.90, 3.9, 3.90, 3.90])\n",
    "Vo = array([11.3e-3, 11.5e-3, 11.8e-3, 11.8e-3, 12.2e-3])\n",
    "\n",
    "sdf = 3*f/100\n",
    "sdVo = 3*Vo/100\n",
    "sdVi = 3*Vi/100\n",
    "\n",
    "Ac = Vo/Vi\n",
    "sdAc = std(Ac)\n",
    "Ac = mean(Ac)\n",
    "print(\"Ac:\",Ac,\"   sdAc:\",sdAc)"
   ]
  },
  {
   "cell_type": "code",
   "execution_count": 7,
   "metadata": {},
   "outputs": [
    {
     "name": "stdout",
     "output_type": "stream",
     "text": [
      "\\begin{tabular}{rrrr}\n",
      "\\hline\n",
      "   $f$ [Hz] &   $V_i$ [V] &   $V_o$ [mV] &    $A_c$ \\\\\n",
      "\\hline\n",
      "      149.5 &        3.90 &         11.3 & 2.90e-03 \\\\\n",
      "      222.0 &        3.90 &         11.5 & 2.95e-03 \\\\\n",
      "      281.0 &        3.90 &         11.8 & 3.03e-03 \\\\\n",
      "      359.0 &        3.90 &         11.8 & 3.03e-03 \\\\\n",
      "      461.0 &        3.90 &         12.2 & 3.13e-03 \\\\\n",
      "\\hline\n",
      "\\end{tabular}\n"
     ]
    }
   ],
   "source": [
    "data = pd.DataFrame(np.column_stack([f,Vi,Vo*10**3,Vo/Vi]))\n",
    "print(tabulate(data, tablefmt=\"latex_raw\", showindex = False, floatfmt=(\".1f\",\".2f\",\".1f\",\".2e\"), headers=[\"$f$ [Hz]\", \"$V_i$ [V]\", \"$V_o$ [mV]\", \"$A_c$\"]))"
   ]
  },
  {
   "cell_type": "code",
   "execution_count": null,
   "metadata": {
    "collapsed": true
   },
   "outputs": [],
   "source": []
  },
  {
   "cell_type": "markdown",
   "metadata": {},
   "source": [
    "## Singole amplificazioni"
   ]
  },
  {
   "cell_type": "code",
   "execution_count": 8,
   "metadata": {},
   "outputs": [
    {
     "name": "stdout",
     "output_type": "stream",
     "text": [
      "Ad teorico: 4.698665518725786    sdAd teorico: 0.04821322977157249\n"
     ]
    }
   ],
   "source": [
    "print(\"Ad teorico:\",R2/R1,\"   sdAd teorico:\",(R2/R1)*(sdR2/R2 + sdR1/R1))"
   ]
  },
  {
   "cell_type": "code",
   "execution_count": 9,
   "metadata": {},
   "outputs": [
    {
     "name": "stdout",
     "output_type": "stream",
     "text": [
      "A1 teorico: -4.698665518725786    sdA1 teorico: -0.04821322977157249\n",
      "A2 teorico: 4.694963820809354    sdA2 teorico: 0.046949638208093544\n",
      "A1: -4.55154242761    sdA1m: 0.024377207529\n",
      "A2: 4.52316396037    sdA2m: 0.0233087411508\n",
      "Ad: -4.53735319399    sdAs: 0.0476859486799\n",
      "rho: 1509.87009015    sdrho: 55.2821350692\n"
     ]
    }
   ],
   "source": [
    "f = array([111.4, 210, 282, 303, 363, 398, 460, 605,])\n",
    "sdf = 3*f/100\n",
    "\n",
    "Vi1 = array([54.5e-3, 54.8e-3, 54.8e-3, 55e-3, 54.4e-3, 54.8e-3, 55.0e-3, 54.8e-3, ])\n",
    "sdVi1 = 3*Vi1/100\n",
    "\n",
    "Vo1 = -array([250e-3, 248e-3, 248e-3, 250e-3, 250e-3, 249e-3, 250e-3,  249e-3, ])\n",
    "sdVo1 = 3*Vo1/100\n",
    "\n",
    "A1 = Vo1/Vi1\n",
    "sdA1 = A1*(sdVo1/Vo1 + sdVi1/Vi1)\n",
    "\n",
    "A1_teo = -R2/R1\n",
    "sdA1_teo = A1_teo*(sdR2/R2 + sdR1/R1)\n",
    "print(\"A1 teorico:\",A1_teo,\"   sdA1 teorico:\",sdA1_teo)\n",
    "\n",
    "\n",
    "Vi2 = array([54.8e-3, 55.6e-3, 55.0e-3, 55.4e-3, 55.4e-3, 55.6e-3, 55.2e-3, 55.4e-3, ])\n",
    "Vo2 = array([250e-3, 250e-3, 250e-3, 250e-3, 250e-3, 250e-3, 251e-3, 250e-3, ])\n",
    "sdVi2 = 3*Vi2/100\n",
    "sdVo2 = 3*Vo2/100\n",
    "\n",
    "\n",
    "A2 = Vo2/Vi2\n",
    "sdA2 = A2*(sdVo2/Vo2 + sdVi2/Vi2)\n",
    "\n",
    "A2_teo = r2/R1 * (R1+R2)/(r1+r2)\n",
    "sdA2_teo = 1/100 * A2_teo\n",
    "print(\"A2 teorico:\",A2_teo,\"   sdA2 teorico:\",sdA2_teo)\n",
    "\n",
    "\n",
    "A1m = mean(A1)\n",
    "sdA1m = std(A1)\n",
    "A2m = mean(A2)\n",
    "sdA2m = std(A2)\n",
    "print(\"A1:\",A1m,\"   sdA1m:\",sdA1m)\n",
    "print(\"A2:\",A2m,\"   sdA2m:\",sdA2m)\n",
    "\n",
    "Ad = 0.5*(A1m-A2m)\n",
    "sdAd = sdA1m + sdA2m\n",
    "print(\"Ad:\",Ad,\"   sdAs:\",sdAd)\n",
    "\n",
    "rho = abs(Ad/Ac)\n",
    "sdrho = rho*(abs(sdAd/Ad) + sdAc/Ac)\n",
    "print(\"rho:\",rho,\"   sdrho:\",sdrho)"
   ]
  },
  {
   "cell_type": "code",
   "execution_count": 10,
   "metadata": {},
   "outputs": [
    {
     "name": "stdout",
     "output_type": "stream",
     "text": [
      "\\begin{tabular}{rrrrrrrr}\n",
      "\\hline\n",
      "   $f$ [Hz] &   $V_{i,1}$ [mV] &   $V_{o,1}$ [mV] &   $V_{i,2}$ [mV] &   $V_{o,2}$ [mV] &   $A_1$ &   $A_2$ &   $A_d$ \\\\\n",
      "\\hline\n",
      "      111.4 &             54.5 &           -250.0 &             54.8 &            250.0 &   -4.59 &    4.56 &   -4.57 \\\\\n",
      "      210.0 &             54.8 &           -248.0 &             55.6 &            250.0 &   -4.53 &    4.50 &   -4.51 \\\\\n",
      "      282.0 &             54.8 &           -248.0 &             55.0 &            250.0 &   -4.53 &    4.55 &   -4.54 \\\\\n",
      "      303.0 &             55.0 &           -250.0 &             55.4 &            250.0 &   -4.55 &    4.51 &   -4.53 \\\\\n",
      "      363.0 &             54.4 &           -250.0 &             55.4 &            250.0 &   -4.60 &    4.51 &   -4.55 \\\\\n",
      "      398.0 &             54.8 &           -249.0 &             55.6 &            250.0 &   -4.54 &    4.50 &   -4.52 \\\\\n",
      "      460.0 &             55.0 &           -250.0 &             55.2 &            251.0 &   -4.55 &    4.55 &   -4.55 \\\\\n",
      "      605.0 &             54.8 &           -249.0 &             55.4 &            250.0 &   -4.54 &    4.51 &   -4.53 \\\\\n",
      "\\hline\n",
      "\\end{tabular}\n"
     ]
    }
   ],
   "source": [
    "data = pd.DataFrame(np.column_stack([f,Vi1*10**3,Vo1*10**3,Vi2*10**3,Vo2*10**3,A1,A2,0.5*(A1-A2)]))\n",
    "print(tabulate(data, tablefmt=\"latex_raw\", showindex = False, floatfmt=(\".1f\",\".1f\",\".1f\",\".1f\",\".1f\",\".2f\",\".2f\",\".2f\"), headers=[\"$f$ [Hz]\", \"$V_{i,1}$ [mV]\", \"$V_{o,1}$ [mV]\", \"$V_{i,2}$ [mV]\", \"$V_{o,2}$ [mV]\", \"$A_1$\", \"$A_2$\", \"$A_d$\"]))"
   ]
  },
  {
   "cell_type": "code",
   "execution_count": null,
   "metadata": {
    "collapsed": true
   },
   "outputs": [],
   "source": []
  },
  {
   "cell_type": "markdown",
   "metadata": {},
   "source": [
    "## Sommatore non invertente"
   ]
  },
  {
   "cell_type": "markdown",
   "metadata": {},
   "source": [
    "### 2 ingressi\n",
    "\n",
    "Le quattro resistenze utilizzate dovranno essere circa uguali tra loro."
   ]
  },
  {
   "cell_type": "code",
   "execution_count": 96,
   "metadata": {},
   "outputs": [
    {
     "name": "stdout",
     "output_type": "stream",
     "text": [
      "R: 8100.0    sdR: 40.7\n",
      "R1: 8110.0    sdR1: 40.75000000000001\n",
      "Ra: 8110.0    sdRa: 40.75000000000001\n",
      "Rb: 8130.0    sdRb: 40.85\n"
     ]
    }
   ],
   "source": [
    "R = 8.10e3\n",
    "R1 = 8.11e3\n",
    "Ra = 8.11e3\n",
    "Rb = 8.13e3\n",
    "\n",
    "sdR = fluke_sd(R)\n",
    "sdR1 = fluke_sd(R1)\n",
    "sdRa = fluke_sd(Ra)\n",
    "sdRb = fluke_sd(Rb)\n",
    "\n",
    "print(\"R:\",R,\"   sdR:\",sdR)\n",
    "print(\"R1:\",R1,\"   sdR1:\",sdR1)\n",
    "print(\"Ra:\",Ra,\"   sdRa:\",sdRa)\n",
    "print(\"Rb:\",Rb,\"   sdRb:\",sdRb)"
   ]
  },
  {
   "cell_type": "code",
   "execution_count": 97,
   "metadata": {},
   "outputs": [
    {
     "name": "stdout",
     "output_type": "stream",
     "text": [
      "Aa: 1.0017452007    sdAa: 0.00246808649629\n",
      "Ab: 1.0017452007    sdAb: 0.00246808649629\n",
      "Aa teorico: 1.001849571246123    sdAa teorico: 0.010018495712461231\n",
      "Ab teorico: 0.9993849966551116    sdAb teorico: 0.009993849966551116\n"
     ]
    }
   ],
   "source": [
    "f = array([277, 534, 1.047e3])\n",
    "\n",
    "Vi = array([3.82, 3.84, 3.84])\n",
    "Voa =array([3.84, 3.84, 3.84])\n",
    "Vob = array([3.84, 3.84, 3.84])\n",
    "\n",
    "Aa = Voa/Vi \n",
    "sdAa = std(Aa)\n",
    "Aa = mean(Aa)\n",
    "print(\"Aa:\",Aa,\"   sdAa:\",sdAa)\n",
    "\n",
    "Ab = Vob/Vi \n",
    "sdAb = std(Ab)\n",
    "Ab = mean(Ab)\n",
    "print(\"Ab:\",Ab,\"   sdAb:\",sdAb)\n",
    "\n",
    "\n",
    "Aa_teo = Rb/(Ra+Rb) * (R1+R)/R\n",
    "sdAa_teo = 1/100*Aa_teo\n",
    "print(\"Aa teorico:\",Aa_teo,\"   sdAa teorico:\",sdAa_teo)\n",
    "\n",
    "Ab_teo = Ra/(Ra+Rb) * (R1+R)/R\n",
    "sdAb_teo = 1/100*Ab_teo\n",
    "print(\"Ab teorico:\",Ab_teo,\"   sdAb teorico:\",sdAb_teo)"
   ]
  },
  {
   "cell_type": "code",
   "execution_count": 98,
   "metadata": {},
   "outputs": [
    {
     "name": "stdout",
     "output_type": "stream",
     "text": [
      "\\begin{tabular}{rrrrrr}\n",
      "\\hline\n",
      "   $f$ [Hz] &   $V_i$ [V] &   $V_{o,a}$ [V] &   $V_{o,b}$ [V] &   $A_a$ &   $A_b$ \\\\\n",
      "\\hline\n",
      "        277 &        3.82 &            3.84 &            3.84 &    1.01 &    1.01 \\\\\n",
      "        534 &        3.84 &            3.84 &            3.84 &    1.00 &    1.00 \\\\\n",
      "       1047 &        3.84 &            3.84 &            3.84 &    1.00 &    1.00 \\\\\n",
      "\\hline\n",
      "\\end{tabular}\n"
     ]
    }
   ],
   "source": [
    "data = pd.DataFrame(np.column_stack([f,Vi,Voa,Vob,Voa/Vi,Vob/Vi]))\n",
    "print(tabulate(data, tablefmt=\"latex_raw\", showindex = False, floatfmt=(\".0f\",\".2f\",\".2f\",\".2f\",\".2f\",\".2f\"), headers=[\"$f$ [Hz]\", \"$V_i$ [V]\", \"$V_{o,a}$ [V]\", \"$V_{o,b}$ [V]\", \"$A_a$\", \"$A_b$\" ]))"
   ]
  },
  {
   "cell_type": "code",
   "execution_count": null,
   "metadata": {
    "collapsed": true
   },
   "outputs": [],
   "source": []
  },
  {
   "cell_type": "code",
   "execution_count": null,
   "metadata": {
    "collapsed": true
   },
   "outputs": [],
   "source": []
  }
 ],
 "metadata": {
  "kernelspec": {
   "display_name": "Python 3",
   "language": "python",
   "name": "python3"
  },
  "language_info": {
   "codemirror_mode": {
    "name": "ipython",
    "version": 3
   },
   "file_extension": ".py",
   "mimetype": "text/x-python",
   "name": "python",
   "nbconvert_exporter": "python",
   "pygments_lexer": "ipython3",
   "version": "3.6.2"
  }
 },
 "nbformat": 4,
 "nbformat_minor": 2
}
